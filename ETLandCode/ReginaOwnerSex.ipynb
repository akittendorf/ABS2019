{
 "cells": [
  {
   "cell_type": "code",
   "execution_count": null,
   "metadata": {},
   "outputs": [],
   "source": [
    "# ETL:\n",
    "\n",
    "# Exracting the data and creating the dataframe:\n",
    "# 1. import pandas, requests\n",
    "# 2. use requests.get(url).json() on the url to import the data\n",
    "# 3. use labels and rows to set the columns and rows for the dataframe\n",
    "# 4. use pd.DataFrame to create a dataframe\n",
    "\n",
    "# Cleaning and transforming the dataframe for each visualization:\n",
    "# 1. create new dataframe from the columns used for the visualization\n",
    "# 2. set FIRMPDEMP column to numeric data using pd.to_numeric\n",
    "# 3. drop the first row from the dataframe to get rid of the \"Total\" value in the \"SEX_LABEL\" column"
   ]
  },
  {
   "cell_type": "code",
   "execution_count": null,
   "metadata": {},
   "outputs": [],
   "source": [
    "# Setup\n",
    "\n",
    "import pandas as pd\n",
    "import requests\n",
    "import matplotlib.pyplot as plt\n",
    "import seaborn as sns\n",
    "\n",
    "def getDF(url):\n",
    "    response = requests.get(url).json()\n",
    "    labels = response[0]\n",
    "    rows = response[1:]\n",
    "    df = pd.DataFrame(rows, columns=labels)\n",
    "    return df\n",
    "\n",
    "api_key = \"[insert api key here]\""
   ]
  },
  {
   "cell_type": "code",
   "execution_count": null,
   "metadata": {},
   "outputs": [],
   "source": [
    "# Visualizations using Matplotlib\n",
    "\n",
    "def visulizations_matplotlib(url, region, color):\n",
    "    data = getDF(url)\n",
    "    firms_sex_state = data[['SEX_LABEL','FIRMPDEMP']]\n",
    "    firms_sex_state.FIRMPDEMP = pd.to_numeric(data.FIRMPDEMP)\n",
    "    firms_sex_state.drop([0], inplace=True, axis=0)\n",
    "    firms_sex_state.set_index('SEX_LABEL', inplace=True)\n",
    "    ax = firms_sex_state.plot(title = f'Number of Firms by Owner Sex ({region})', color=color, kind='barh')\n",
    "    ax.set_ylabel('Sex')\n",
    "    ax.set_xlabel('Number of Firms')\n",
    "    plt.show()\n",
    "\n",
    "firms_sex_WI = visulizations_matplotlib(f\"https://api.census.gov/data/2018/abscs.html?get=GEO_ID,NAME,SEX,SEX_LABEL,FIRMPDEMP&for=state:55&key={api_key}\", 'WI', '#F3334B')\n",
    "firms_sex_MN = visulizations_matplotlib(f\"https://api.census.gov/data/2018/abscs.html?get=GEO_ID,NAME,SEX,SEX_LABEL,FIRMPDEMP&for=state:27&key={api_key}\", 'MN', '#60BB48')"
   ]
  },
  {
   "cell_type": "code",
   "execution_count": null,
   "metadata": {},
   "outputs": [],
   "source": [
    "# Visualizations using Seaborn\n",
    "\n",
    "def visulizations_seaborn(url,region,color):\n",
    "    data = getDF(url)\n",
    "    firms_sex_state = data[['SEX_LABEL','FIRMPDEMP']]\n",
    "    firms_sex_state.FIRMPDEMP = pd.to_numeric(data.FIRMPDEMP)\n",
    "    firms_sex_state.drop([0], inplace=True, axis=0)\n",
    "    ax = sns.barplot(y = 'SEX_LABEL', x = 'FIRMPDEMP', data = firms_sex_state, order = ['Equally male/female', 'Male', 'Female'], color=color)\n",
    "    ax.set_title(f'Number of Firms by Owner Sex ({region})')\n",
    "    ax.set_ylabel('Sex')\n",
    "    ax.set_xlabel('Number of Firms')\n",
    "\n",
    "firms_sex_US = visulizations_seaborn(f\"https://api.census.gov/data/2018/abscs.html?get=GEO_ID,NAME,SEX,SEX_LABEL,FIRMPDEMP&for=us:*&key={api_key}\", 'US', '#187BCD')"
   ]
  }
 ],
 "metadata": {
  "interpreter": {
   "hash": "86d1a67b0d56e74f294bd0a89711776805270fb9ebddae761db44ecf66e3b529"
  },
  "kernelspec": {
   "display_name": "Python 3.9.7 64-bit ('base': conda)",
   "language": "python",
   "name": "python3"
  },
  "language_info": {
   "name": "python",
   "version": "3.9.7"
  },
  "orig_nbformat": 4
 },
 "nbformat": 4,
 "nbformat_minor": 2
}
