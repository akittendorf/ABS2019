{
 "cells": [
  {
   "cell_type": "markdown",
   "metadata": {},
   "source": [
    "These steps are for extracting number of firms as they relate to customer type from the census' Annual Business Survey Characteristics of Business API\n",
    "\n",
    "The data comes from https://www.census.gov/data/developers/data-sets/abs.2019.html\n",
    "\n",
    "There are many variables available to choose from that are specified in the \"get=\" section of the url\n",
    "\n",
    "For a full list of variables to build your own queries please visit the aforementioned website\n",
    "\n",
    "There are also steps for transformations applied to these dataframes that return specific state (Wisconsin,Minnesota) data as well as nationwide data"
   ]
  },
  {
   "cell_type": "markdown",
   "metadata": {},
   "source": [
    "Extraction Steps for specific state (Minnesota,Wisconsin) data:\n",
    "\n",
    "1.Make sure you have the required imports for extraction: requests,json,pandas\n",
    "\n",
    "2.Connect to the API using the url provided and the requests.request(\"GET\",YOURURL) method: \n",
    "    url = https://api.census.gov/data/2018/abscb.html?get=NAME,QDESC,BUSCHAR,QDESC_LABEL,BUSCHAR_LABEL,FIRMPDEMP,FIRMPDEMP_F&for=state:*&QDESC=B14&key=YOURKEY\n",
    "    \n",
    "    *NOTE* Make sure to request a key and replace YOURKEY in the above url with the key you received *NOTE*\n",
    "\n",
    "3.Load in the request response as a JSON using the json.loads(response.text) method\n",
    "\n",
    "4.Save the first entry from the JSON as your labels, this sets up the columns in the dataframe\n",
    "\n",
    "5.Save the remaining entries from the JSON as your rows, this sets up the data in the dataframe\n",
    "\n",
    "6.Create the dataframe using the pandas.DataFrame(rows,columns=labels) method"
   ]
  },
  {
   "cell_type": "code",
   "execution_count": 6,
   "metadata": {},
   "outputs": [],
   "source": [
    "import requests\n",
    "import pandas as pd\n",
    "import json\n",
    "import matplotlib.pyplot as plt\n",
    "%matplotlib inline\n",
    "\n",
    "url = \"https://api.census.gov/data/2018/abscb.html?get=NAME,QDESC,BUSCHAR,QDESC_LABEL,BUSCHAR_LABEL,FIRMPDEMP,FIRMPDEMP_F&for=state:*&QDESC=B14&key=1b20acce6b62709834dab0bc6006364236b68266\"\n",
    "\n",
    "response = requests.request(\"GET\",url)\n",
    "\n",
    "responseJSON = json.loads(response.text)\n",
    "\n",
    "data_labels = responseJSON[0]\n",
    "\n",
    "data_rows = responseJSON[1:]\n",
    "\n",
    "df = pd.DataFrame(data_rows,columns=data_labels)"
   ]
  },
  {
   "cell_type": "markdown",
   "metadata": {},
   "source": [
    "The next series of transformations will focus on returning the specific state (Minnesota,Wisconsin) data"
   ]
  },
  {
   "cell_type": "markdown",
   "metadata": {},
   "source": [
    "Transformation steps for Minnesota Data:\n",
    "\n",
    "1.Create a dataframe that returns only the data with \"Minnesota\" as the NAME\n",
    "\n",
    "2.Change the FIRMDEMP data to be numeric data using the pandas.to_numeric(variable) method\n",
    "\n",
    "    *NOTE* You may have to include the errors=\"coerce\" parameter in order to make this work *NOTE*\n",
    "\n",
    "*NOTE* These next steps are optional and just make for more consistent data and increase readability *NOTE*\n",
    "\n",
    "3.Replace the label \"State and local government, including school districts, transportation authorities, etc.\" with \"State and local Government\" using the replace(\"oldLabel\",\"newLabel\") method\n",
    "    to increase readability\n",
    "\n",
    "4.Replace the label \"Other businesses, including distributors of your product(s)\" with \"Other Businesses\" using the replace(\"oldLabel\",\"newLabel\") method to increase readability\n",
    "\n",
    "5.Create a list of the labels in the order you want to display them if you were to graph them\n",
    "\n",
    "6.Order the results by setting the index on the dataframe to \"BUSCHAR_LABEL\" using the set_index() method and then passing in your ordered list to the loc[] method\n",
    "\n",
    "Included in the code block below are the steps used to generate a graph using the matplotlib package. If you wish to replicate these steps make sure you have imported\n",
    "    matplotlib.pyplot and included the line %matplotlib inline underneath the import line"
   ]
  },
  {
   "cell_type": "code",
   "execution_count": 7,
   "metadata": {},
   "outputs": [
    {
     "name": "stderr",
     "output_type": "stream",
     "text": [
      "C:\\Users\\bggru\\AppData\\Local\\Temp/ipykernel_31056/1132028554.py:2: SettingWithCopyWarning: \n",
      "A value is trying to be set on a copy of a slice from a DataFrame.\n",
      "Try using .loc[row_indexer,col_indexer] = value instead\n",
      "\n",
      "See the caveats in the documentation: https://pandas.pydata.org/pandas-docs/stable/user_guide/indexing.html#returning-a-view-versus-a-copy\n",
      "  minnesotadf[\"FIRMPDEMP\"] = pd.to_numeric(minnesotadf[\"FIRMPDEMP\"],errors=\"coerce\")\n"
     ]
    },
    {
     "data": {
      "image/png": "[encoded data removed]",
      "text/plain": [
       "<Figure size 432x288 with 1 Axes>"
      ]
     },
     "metadata": {
      "needs_background": "light"
     },
     "output_type": "display_data"
    }
   ],
   "source": [
    "minnesotadf = df[df[\"NAME\"] == \"Minnesota\"]\n",
    "minnesotadf[\"FIRMPDEMP\"] = pd.to_numeric(minnesotadf[\"FIRMPDEMP\"],errors=\"coerce\")\n",
    "minnesotadf = minnesotadf.loc[(minnesotadf[\"BUSCHAR_LABEL\"] != \"All firms\")]\n",
    "minnesotadf = minnesotadf.replace(\"State and local government, including school districts, transportation authorities, etc.\",\"State and local Government\")\n",
    "minnesotadf = minnesotadf.replace(\"Other businesses, including distributors of your product(s)\",\"Other Businesses\")\n",
    "\n",
    "field=\"BUSCHAR_LABEL\"\n",
    "typeOrder=[\"Item not reported\",\"Total reporting\",\"Individuals\",\"Other organizations\",\"Other Businesses\",\"State and local Government\",\"Federal government\"]\n",
    "minnesotadf = minnesotadf.set_index(field).loc[typeOrder]\n",
    "\n",
    "plt.barh(minnesotadf.index,minnesotadf[\"FIRMPDEMP\"],color=\"#60BB48\")\n",
    "plt.title(\"Number of Firms by Customer Type (Minnesota)\")\n",
    "plt.xlabel(\"Number of Firms\")\n",
    "plt.ylabel(\"Customer Type\")\n",
    "plt.show()"
   ]
  },
  {
   "cell_type": "markdown",
   "metadata": {},
   "source": [
    "Transformation steps for Wisconsin Data:\n",
    "\n",
    "1.Create a dataframe that returns only the data with \"Wisconsin\" as the NAME\n",
    "\n",
    "2.Change the FIRMDEMP data to be numeric data using the pandas.to_numeric(variable) method\n",
    "\n",
    "    *NOTE* You may have to include the errors=\"coerce\" parameter in order to make this work *NOTE*\n",
    "\n",
    "*NOTE* These next steps are optional and just make for more consistent data and increase readability *NOTE*\n",
    "\n",
    "3.Replace the label \"State and local government, including school districts, transportation authorities, etc.\" with \"State and local Government\" using the replace(\"oldLabel\",\"newLabel\") method\n",
    "    to increase readability\n",
    "\n",
    "4.Replace the label \"Other businesses, including distributors of your product(s)\" with \"Other Businesses\" using the replace(\"oldLabel\",\"newLabel\") method to increase readability\n",
    "\n",
    "5.Create a list of the labels in the order you want to display them if you were to graph them\n",
    "\n",
    "6.Order the results by setting the index on the dataframe to \"BUSCHAR_LABEL\" using the set_index() method and then passing in your ordered list to the loc[] method\n",
    "\n",
    "Included in the code block below are the steps used to generate a graph using the matplotlib package. If you wish to replicate these steps make sure you have imported\n",
    "    matplotlib.pyplot and included the line %matplotlib inline underneath the import line"
   ]
  },
  {
   "cell_type": "code",
   "execution_count": 8,
   "metadata": {},
   "outputs": [
    {
     "name": "stderr",
     "output_type": "stream",
     "text": [
      "C:\\Users\\bggru\\AppData\\Local\\Temp/ipykernel_31056/1677812793.py:2: SettingWithCopyWarning: \n",
      "A value is trying to be set on a copy of a slice from a DataFrame.\n",
      "Try using .loc[row_indexer,col_indexer] = value instead\n",
      "\n",
      "See the caveats in the documentation: https://pandas.pydata.org/pandas-docs/stable/user_guide/indexing.html#returning-a-view-versus-a-copy\n",
      "  wisconsindf[\"FIRMPDEMP\"] = pd.to_numeric(wisconsindf[\"FIRMPDEMP\"],errors=\"coerce\")\n"
     ]
    },
    {
     "data": {
      "image/png": "[encoded data removed]",
      "text/plain": [
       "<Figure size 432x288 with 1 Axes>"
      ]
     },
     "metadata": {
      "needs_background": "light"
     },
     "output_type": "display_data"
    }
   ],
   "source": [
    "wisconsindf = df[df[\"NAME\"] == \"Wisconsin\"]\n",
    "wisconsindf[\"FIRMPDEMP\"] = pd.to_numeric(wisconsindf[\"FIRMPDEMP\"],errors=\"coerce\")\n",
    "wisconsindf = wisconsindf.loc[(wisconsindf[\"BUSCHAR_LABEL\"] != \"All firms\")]\n",
    "wisconsindf = wisconsindf.replace(\"State and local government, including school districts, transportation authorities, etc.\",\"State and local Government\")\n",
    "wisconsindf = wisconsindf.replace(\"Other businesses, including distributors of your product(s)\",\"Other Businesses\")\n",
    "\n",
    "field=\"BUSCHAR_LABEL\"\n",
    "typeOrder=[\"Item not reported\",\"Total reporting\",\"Individuals\",\"Other organizations\",\"Other Businesses\",\"State and local Government\",\"Federal government\"]\n",
    "wisconsindf = wisconsindf.set_index(field).loc[typeOrder]\n",
    "\n",
    "plt.barh(wisconsindf.index,wisconsindf[\"FIRMPDEMP\"],color=\"#F3334B\")\n",
    "plt.title(\"Number of Firms by Customer Type (Wisconsin)\")\n",
    "plt.xlabel(\"Number of Firms\")\n",
    "plt.ylabel(\"Customer Type\")\n",
    "plt.show()"
   ]
  },
  {
   "cell_type": "markdown",
   "metadata": {},
   "source": [
    "Extraction Steps for nationwide data:\n",
    "\n",
    "1.Make sure you have the required imports for extraction: requests,json,pandas\n",
    "\n",
    "2.Connect to the API using the url provided and the requests.request(\"GET\",YOURURL) method: \n",
    "    url = https://api.census.gov/data/2018/abscb.html?get=NAME,QDESC,BUSCHAR,QDESC_LABEL,BUSCHAR_LABEL,FIRMPDEMP,FIRMPDEMP_F&for=us:*&QDESC=B14&key=YOURKEY\n",
    "    \n",
    "    *NOTE* Make sure to request a key and replace YOURKEY in the above url with the key you received *NOTE*\n",
    "    \n",
    "    *NOTE* The only difference between this url and the url required for the state data is in the \"for=\" section of the url. Replace state with us. *NOTE*\n",
    "\n",
    "3.Load in the request response as a JSON using the json.loads(response.text) method\n",
    "\n",
    "4.Save the first entry from the JSON as your labels, this sets up the columns in the dataframe\n",
    "\n",
    "5.Save the remaining entries from the JSON as your rows, this sets up the data in the dataframe\n",
    "\n",
    "6.Create the dataframe using the pandas.DataFrame(rows,columns=labels) method"
   ]
  },
  {
   "cell_type": "code",
   "execution_count": 9,
   "metadata": {},
   "outputs": [],
   "source": [
    "import seaborn as sns\n",
    "\n",
    "url = \"https://api.census.gov/data/2018/abscb.html?get=NAME,QDESC,BUSCHAR,QDESC_LABEL,BUSCHAR_LABEL,FIRMPDEMP,FIRMPDEMP_F&for=us:*&QDESC=B14&key=1b20acce6b62709834dab0bc6006364236b68266\"\n",
    "\n",
    "response = requests.request(\"GET\",url)\n",
    "\n",
    "responseJSON = json.loads(response.text)\n",
    "\n",
    "data_labels = responseJSON[0]\n",
    "\n",
    "data_rows = responseJSON[1:]\n",
    "\n",
    "df = pd.DataFrame(data_rows,columns=data_labels)\n",
    "\n"
   ]
  },
  {
   "cell_type": "markdown",
   "metadata": {},
   "source": [
    "Transformation steps for nationwide data:\n",
    "\n",
    "1.Change the FIRMDEMP data to be numeric data using the pandas.to_numeric(variable) method\n",
    "\n",
    "    *NOTE* You may have to include the errors=\"coerce\" parameter in order to make this work *NOTE*\n",
    "\n",
    "*NOTE* These next steps are optional and just make for more consistent data and increase readability *NOTE*\n",
    "\n",
    "2.Replace the label \"State and local government, including school districts, transportation authorities, etc.\" with \"State and local Government\" using the replace(\"oldLabel\",\"newLabel\") method\n",
    "    to increase readability\n",
    "\n",
    "3.Replace the label \"Other businesses, including distributors of your product(s)\" with \"Other Businesses\" using the replace(\"oldLabel\",\"newLabel\") method to increase readability\n",
    "\n",
    "Included in the codeblock below are the steps to generate a graph using the seaborn package. If you wish to replicate these steps make sure you have installed and imported the seaborn\n",
    "    package *NOTE*\n",
    " "
   ]
  },
  {
   "cell_type": "code",
   "execution_count": 10,
   "metadata": {},
   "outputs": [
    {
     "data": {
      "text/plain": [
       "[Text(0.5, 1.0, 'Number of Firms by Customer Type (United States)'),\n",
       " Text(0.5, 0, 'Number of Firms'),\n",
       " Text(0, 0.5, 'Customer Type')]"
      ]
     },
     "execution_count": 10,
     "metadata": {},
     "output_type": "execute_result"
    },
    {
     "data": {
      "image/png": "[encoded data removed]",
      "text/plain": [
       "<Figure size 432x288 with 1 Axes>"
      ]
     },
     "metadata": {
      "needs_background": "light"
     },
     "output_type": "display_data"
    }
   ],
   "source": [
    "df[\"FIRMPDEMP\"] = pd.to_numeric(df[\"FIRMPDEMP\"],errors=\"coerce\")\n",
    "df.drop([0],inplace=True,axis=0)\n",
    "df = df.replace(\"State and local government, including school districts, transportation authorities, etc.\",\"State and local Government\")\n",
    "df = df.replace(\"Other businesses, including distributors of your product(s)\",\"Other Businesses\")\n",
    "\n",
    "axus = sns.barplot(x=\"FIRMPDEMP\",y=\"BUSCHAR_LABEL\",data=df,color=\"#187BCD\")\n",
    "\n",
    "axus.set(title=\"Number of Firms by Customer Type (United States)\",xlabel=\"Number of Firms\",ylabel=\"Customer Type\")"
   ]
  }
 ],
 "metadata": {
  "interpreter": {
   "hash": "e58de2ff5ed2f24511f1003ea5459e3dd26cac22157aef780d198586f6207d5d"
  },
  "kernelspec": {
   "display_name": "Python 3.9.7 64-bit ('base': conda)",
   "language": "python",
   "name": "python3"
  },
  "language_info": {
   "codemirror_mode": {
    "name": "ipython",
    "version": 3
   },
   "file_extension": ".py",
   "mimetype": "text/x-python",
   "name": "python",
   "nbconvert_exporter": "python",
   "pygments_lexer": "ipython3",
   "version": "3.9.7"
  },
  "orig_nbformat": 4
 },
 "nbformat": 4,
 "nbformat_minor": 2
}
